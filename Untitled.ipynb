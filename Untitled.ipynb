{
 "cells": [
  {
   "cell_type": "code",
   "execution_count": 1,
   "id": "920f5596",
   "metadata": {},
   "outputs": [
    {
     "name": "stdout",
     "output_type": "stream",
     "text": [
      "10\n"
     ]
    }
   ],
   "source": [
    "class Democlass:\n",
    "    a = 10\n",
    "demoobject = Democlass()\n",
    "print(demoobject.a)"
   ]
  },
  {
   "cell_type": "code",
   "execution_count": 2,
   "id": "e02db20b",
   "metadata": {},
   "outputs": [
    {
     "name": "stdout",
     "output_type": "stream",
     "text": [
      "10\n",
      "10\n"
     ]
    }
   ],
   "source": [
    "class Democlass:\n",
    "    a = 10\n",
    "demoobject = Democlass()\n",
    "demoobject1 = Democlass()\n",
    "print(demoobject.a)\n",
    "print(demoobject1.a)"
   ]
  },
  {
   "cell_type": "markdown",
   "id": "807bcf0b",
   "metadata": {},
   "source": [
    "### Objects are defined outside the class whereas methods/functions are defined within the class"
   ]
  },
  {
   "cell_type": "code",
   "execution_count": 10,
   "id": "4e7c4503",
   "metadata": {},
   "outputs": [
    {
     "name": "stdout",
     "output_type": "stream",
     "text": [
      "10\n",
      "10\n",
      "50\n"
     ]
    }
   ],
   "source": [
    "class Democlass:\n",
    "    a = 10\n",
    "    \n",
    "    def sumvalue(self):\n",
    "        print(20+30)\n",
    "demoobject = Democlass()\n",
    "demoobject1 = Democlass()\n",
    "print(demoobject.a)\n",
    "print(demoobject1.a)\n",
    "demoobject.sumvalue()"
   ]
  },
  {
   "cell_type": "code",
   "execution_count": 19,
   "id": "92646fad",
   "metadata": {},
   "outputs": [
    {
     "name": "stdout",
     "output_type": "stream",
     "text": [
      "10\n"
     ]
    }
   ],
   "source": [
    "class Democlass:\n",
    "    a = 10\n",
    "    \n",
    "    def sumvalue(self):\n",
    "        print(self.a)\n",
    "obj=Democlass();\n",
    "obj.sumvalue();"
   ]
  },
  {
   "cell_type": "code",
   "execution_count": 20,
   "id": "78783813",
   "metadata": {},
   "outputs": [
    {
     "name": "stdout",
     "output_type": "stream",
     "text": [
      "100\n"
     ]
    }
   ],
   "source": [
    "class Democlass:\n",
    "    a = 10\n",
    "    \n",
    "    def sumvalue(self):\n",
    "        self.c = self.a * self.a\n",
    "        print(self.c)\n",
    "obj=Democlass();\n",
    "obj.sumvalue();"
   ]
  },
  {
   "cell_type": "code",
   "execution_count": 21,
   "id": "ff585926",
   "metadata": {},
   "outputs": [
    {
     "name": "stdout",
     "output_type": "stream",
     "text": [
      "100\n",
      "this is the second method\n"
     ]
    }
   ],
   "source": [
    "class Democlass:\n",
    "    a = 10\n",
    "    \n",
    "    def sumvalue(self):\n",
    "        self.c = self.a * self.a\n",
    "        print(self.c)\n",
    "    def me(self):\n",
    "        print(\"this is the second method\")\n",
    "obj=Democlass();\n",
    "obj.sumvalue();\n",
    "obj.me()"
   ]
  },
  {
   "cell_type": "code",
   "execution_count": 30,
   "id": "7b28c5cc",
   "metadata": {},
   "outputs": [
    {
     "name": "stdout",
     "output_type": "stream",
     "text": [
      "17\n"
     ]
    }
   ],
   "source": [
    "# we can add multiple arguement in the method(here a and b,but self must be used at all time)\n",
    "class Democlass:\n",
    "    a = 10\n",
    "    \n",
    "    def sumvalue(self,a,b):\n",
    "        print(a+b)\n",
    "obj=Democlass();\n",
    "obj.sumvalue(8,9)\n"
   ]
  },
  {
   "cell_type": "markdown",
   "id": "7cf32297",
   "metadata": {},
   "source": [
    "## Constructors"
   ]
  },
  {
   "cell_type": "code",
   "execution_count": 31,
   "id": "8af37be9",
   "metadata": {},
   "outputs": [
    {
     "name": "stdout",
     "output_type": "stream",
     "text": [
      "this sentence is formed by cunstructor\n",
      "17\n"
     ]
    }
   ],
   "source": [
    "# constructor is method which dont have to call they execute by default\n",
    "class Democlass:\n",
    "    a = 10\n",
    "    \n",
    "    def sumvalue(self,a,b):\n",
    "        print(a+b)\n",
    "    def __init__(self):\n",
    "        print(\"this sentence is formed by cunstructor\")\n",
    "obj=Democlass();\n",
    "obj.sumvalue(8,9)"
   ]
  },
  {
   "cell_type": "markdown",
   "id": "2be84420",
   "metadata": {},
   "source": [
    "## inheritance"
   ]
  },
  {
   "cell_type": "code",
   "execution_count": 33,
   "id": "6835373c",
   "metadata": {},
   "outputs": [
    {
     "name": "stdout",
     "output_type": "stream",
     "text": [
      "method in A\n",
      "method in B\n"
     ]
    }
   ],
   "source": [
    "# SINGLE INHERITANCE\n",
    "#class B has inherited all the functions of A\n",
    "class A:\n",
    "    def displayA(self):\n",
    "        print(\"method in A\")\n",
    "class B(A):\n",
    "    def displayB(self):\n",
    "        print(\"method in B\")\n",
    "        \n",
    "obj = B()\n",
    "obj.displayA()\n",
    "obj.displayB()\n",
    "        "
   ]
  },
  {
   "cell_type": "code",
   "execution_count": 35,
   "id": "29a74b93",
   "metadata": {},
   "outputs": [
    {
     "name": "stdout",
     "output_type": "stream",
     "text": [
      "method in A\n",
      "method in B\n",
      "method in C\n"
     ]
    }
   ],
   "source": [
    "#MULTILEVEL INHERITANCE\n",
    "class A:\n",
    "    def displayA(self):\n",
    "        print(\"method in A\")\n",
    "class B(A):\n",
    "    def displayB(self):\n",
    "        print(\"method in B\")\n",
    "class C(B):\n",
    "    def displayC(self):\n",
    "        print(\"method in C\")\n",
    "    \n",
    "        \n",
    "obj = C()\n",
    "obj.displayA()\n",
    "obj.displayB()\n",
    "obj.displayC()"
   ]
  },
  {
   "cell_type": "code",
   "execution_count": 36,
   "id": "a8bad6e7",
   "metadata": {},
   "outputs": [
    {
     "name": "stdout",
     "output_type": "stream",
     "text": [
      "method in A\n",
      "method in B\n",
      "method in C\n"
     ]
    }
   ],
   "source": [
    "#MULTIPLE INHERITANCE\n",
    "class A:\n",
    "    def displayA(self):\n",
    "        print(\"method in A\")\n",
    "class B:\n",
    "    def displayB(self):\n",
    "        print(\"method in B\")\n",
    "class C(B,A):\n",
    "    def displayC(self):\n",
    "        print(\"method in C\")\n",
    "    \n",
    "        \n",
    "obj = C()\n",
    "obj.displayA()\n",
    "obj.displayB()\n",
    "obj.displayC()"
   ]
  },
  {
   "cell_type": "markdown",
   "id": "a8ac4bcd",
   "metadata": {},
   "source": [
    "## Encapsulation (Getter and Setter) (hidding)"
   ]
  },
  {
   "cell_type": "code",
   "execution_count": 38,
   "id": "a938d80f",
   "metadata": {},
   "outputs": [
    {
     "name": "stdout",
     "output_type": "stream",
     "text": [
      "Anurag\n"
     ]
    }
   ],
   "source": [
    "# Encapsulation is used to make the method private which means it no longer can be accessable by the object\n",
    "class Student:\n",
    "    def __init__(self):\n",
    "        self.__name=\"\"\n",
    "    def getname(self):\n",
    "        return self.__name\n",
    "    def setname(self,name):\n",
    "        self.__name = name\n",
    "obj = Student()\n",
    "obj.setname(\"Anurag\")\n",
    "name = obj.getname()\n",
    "print(name)"
   ]
  },
  {
   "cell_type": "code",
   "execution_count": 39,
   "id": "15cc58ae",
   "metadata": {},
   "outputs": [
    {
     "name": "stdout",
     "output_type": "stream",
     "text": [
      "ravi\n"
     ]
    },
    {
     "ename": "AttributeError",
     "evalue": "'Student' object has no attribute '__displayinfo'",
     "output_type": "error",
     "traceback": [
      "\u001b[1;31m---------------------------------------------------------------------------\u001b[0m",
      "\u001b[1;31mAttributeError\u001b[0m                            Traceback (most recent call last)",
      "Cell \u001b[1;32mIn[39], line 8\u001b[0m\n\u001b[0;32m      6\u001b[0m         \u001b[38;5;28mprint\u001b[39m(\u001b[38;5;124m\"\u001b[39m\u001b[38;5;124mprivate sentence\u001b[39m\u001b[38;5;124m\"\u001b[39m)\n\u001b[0;32m      7\u001b[0m obj \u001b[38;5;241m=\u001b[39m Student()\n\u001b[1;32m----> 8\u001b[0m obj\u001b[38;5;241m.\u001b[39m__displayinfo()\n",
      "\u001b[1;31mAttributeError\u001b[0m: 'Student' object has no attribute '__displayinfo'"
     ]
    }
   ],
   "source": [
    "#word started with \"__\" is a private attribute and cannot be called by the object directly \n",
    "class Student:\n",
    "    __name = \"ravi\"\n",
    "    def __init__(self):\n",
    "        print(self.__name)\n",
    "    def __displayinfo(self):\n",
    "        print(\"private sentence\")\n",
    "obj = Student()\n",
    "obj.__displayinfo()"
   ]
  },
  {
   "cell_type": "code",
   "execution_count": 45,
   "id": "f82ded4e",
   "metadata": {},
   "outputs": [
    {
     "name": "stdout",
     "output_type": "stream",
     "text": [
      "ravi\n",
      "private sentence\n"
     ]
    }
   ],
   "source": [
    "class Student:\n",
    "    __name = \"ravi\"\n",
    "    def __init__(self):\n",
    "        print(self.__name)\n",
    "        self.__displayinfo()\n",
    "    def __displayinfo(self):\n",
    "        print(\"private sentence\")\n",
    "obj = Student()\n",
    "\n"
   ]
  },
  {
   "cell_type": "markdown",
   "id": "23c86b37",
   "metadata": {},
   "source": [
    "## Polymorphism"
   ]
  },
  {
   "cell_type": "code",
   "execution_count": 50,
   "id": "c2e3220c",
   "metadata": {},
   "outputs": [
    {
     "name": "stdout",
     "output_type": "stream",
     "text": [
      "Welcome to \n",
      "Welcome to Python\n"
     ]
    }
   ],
   "source": [
    "#overloading\n",
    "class Ws:\n",
    "    def displayyinfo(self,name=\"\"):\n",
    "        print(\"Welcome to \"+name)\n",
    "obj = Ws()\n",
    "obj.displayyinfo()\n",
    "obj.displayyinfo(\"Python\")"
   ]
  },
  {
   "cell_type": "code",
   "execution_count": 57,
   "id": "9ff56310",
   "metadata": {},
   "outputs": [
    {
     "name": "stdout",
     "output_type": "stream",
     "text": [
      "No result found\n",
      "Area of rectangle: 21\n",
      "Area of Square: 36\n"
     ]
    }
   ],
   "source": [
    "#overloading----1 function dfferent parameter\n",
    "class area:\n",
    "    def find_area(self,a=None,b=None):\n",
    "        if a!=None and b!=None:\n",
    "            print(\"Area of rectangle:\",(a*b))\n",
    "        elif a!=None:\n",
    "            print(\"Area of Square:\",(a*a))\n",
    "        else:\n",
    "            print(\"No result found\")\n",
    "obj = area()\n",
    "obj.find_area()\n",
    "obj.find_area(3,7)\n",
    "obj.find_area(6)"
   ]
  },
  {
   "cell_type": "code",
   "execution_count": 51,
   "id": "b9ce1428",
   "metadata": {},
   "outputs": [
    {
     "name": "stdout",
     "output_type": "stream",
     "text": [
      "function in B\n"
     ]
    }
   ],
   "source": [
    "# function in class A is overided and only class B function is working\n",
    "class A:\n",
    "    def C(self):\n",
    "        print(\"function in A\")\n",
    "class B(A):\n",
    "    def C(self):\n",
    "        print(\"function in B\")\n",
    "obj = B()\n",
    "obj.C()"
   ]
  },
  {
   "cell_type": "code",
   "execution_count": null,
   "id": "336d42cc",
   "metadata": {},
   "outputs": [],
   "source": []
  },
  {
   "cell_type": "code",
   "execution_count": 54,
   "id": "a21f7cea",
   "metadata": {},
   "outputs": [
    {
     "name": "stdout",
     "output_type": "stream",
     "text": [
      "function in A\n",
      "function in B\n"
     ]
    }
   ],
   "source": [
    "# super execute parent function too........\n",
    "class A:\n",
    "    def C(self):\n",
    "        print(\"function in A\")\n",
    "class B(A):\n",
    "    def C(self):\n",
    "        super().C()\n",
    "        print(\"function in B\")\n",
    "obj = B()\n",
    "obj.C()"
   ]
  },
  {
   "cell_type": "code",
   "execution_count": null,
   "id": "f3e15c26",
   "metadata": {},
   "outputs": [],
   "source": []
  },
  {
   "cell_type": "code",
   "execution_count": null,
   "id": "4639cf18",
   "metadata": {},
   "outputs": [],
   "source": []
  }
 ],
 "metadata": {
  "kernelspec": {
   "display_name": "Python 3 (ipykernel)",
   "language": "python",
   "name": "python3"
  },
  "language_info": {
   "codemirror_mode": {
    "name": "ipython",
    "version": 3
   },
   "file_extension": ".py",
   "mimetype": "text/x-python",
   "name": "python",
   "nbconvert_exporter": "python",
   "pygments_lexer": "ipython3",
   "version": "3.11.5"
  }
 },
 "nbformat": 4,
 "nbformat_minor": 5
}
